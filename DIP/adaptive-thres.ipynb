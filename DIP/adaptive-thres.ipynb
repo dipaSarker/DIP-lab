{
 "cells": [
  {
   "cell_type": "code",
   "execution_count": 1,
   "metadata": {},
   "outputs": [],
   "source": [
    "import cv2\n",
    "import numpy as np\n",
    "\n",
    "# Step 1: Read the image in grayscale\n",
    "image = cv2.imread('img1.jpg', cv2.IMREAD_GRAYSCALE)\n",
    "\n",
    "# Step 2: Apply adaptive thresholding\n",
    "# The parameters can be adjusted based on the specific needs of the image\n",
    "adaptive_threshold = cv2.adaptiveThreshold(image, \n",
    "                                            255, \n",
    "                                            cv2.ADAPTIVE_THRESH_GAUSSIAN_C, \n",
    "                                            cv2.THRESH_BINARY, \n",
    "                                            11, \n",
    "                                            2)\n",
    "\n",
    "# Step 3: Display the original and thresholded images\n",
    "cv2.imshow('Original Grayscale Image', image)\n",
    "cv2.imshow('Adaptive Thresholding Result', adaptive_threshold)\n",
    "\n",
    "# Wait for a key press and close the image windows\n",
    "cv2.waitKey(0)\n",
    "cv2.destroyAllWindows()\n"
   ]
  }
 ],
 "metadata": {
  "kernelspec": {
   "display_name": "Python 3",
   "language": "python",
   "name": "python3"
  },
  "language_info": {
   "codemirror_mode": {
    "name": "ipython",
    "version": 3
   },
   "file_extension": ".py",
   "mimetype": "text/x-python",
   "name": "python",
   "nbconvert_exporter": "python",
   "pygments_lexer": "ipython3",
   "version": "3.13.1"
  }
 },
 "nbformat": 4,
 "nbformat_minor": 2
}
