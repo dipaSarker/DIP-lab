{
 "cells": [
  {
   "cell_type": "code",
   "execution_count": 9,
   "metadata": {},
   "outputs": [
    {
     "name": "stdout",
     "output_type": "stream",
     "text": [
      "PSNR of Harmonic Filter: 27.67 dB\n",
      "PSNR of Geometric Filter: 27.66 dB\n"
     ]
    }
   ],
   "source": [
    "import cv2\n",
    "import numpy as np\n",
    "\n",
    "# Function to calculate PSNR\n",
    "def calculate_psnr(original, filtered):\n",
    "    mse = np.mean((original - filtered) ** 2)  # Mean Squared Error\n",
    "    if mse == 0:  # No noise in the image\n",
    "        return float('inf')\n",
    "    max_pixel = 255.0  # Max pixel value for 8-bit images\n",
    "    psnr_value = 20 * np.log10(max_pixel / np.sqrt(mse))\n",
    "    return psnr_value\n",
    "\n",
    "# Function to add salt and pepper noise\n",
    "def add_salt_and_pepper_noise(image, amount=0.05):\n",
    "    noisy_image = np.copy(image)\n",
    "    num_salt = int(amount * image.size / 2)\n",
    "    num_pepper = int(amount * image.size / 2)\n",
    "\n",
    "    # Add salt (white pixels)\n",
    "    coords = [np.random.randint(0, i - 1, num_salt) for i in image.shape]\n",
    "    noisy_image[coords] = 255\n",
    "\n",
    "    # Add pepper (black pixels)\n",
    "    coords = [np.random.randint(0, i - 1, num_pepper) for i in image.shape]\n",
    "    noisy_image[coords] = 0\n",
    "\n",
    "    return noisy_image\n",
    "\n",
    "# Load a grayscale image\n",
    "image = cv2.imread('img2.jpg', cv2.IMREAD_GRAYSCALE)\n",
    "\n",
    "# Add salt and pepper noise\n",
    "noisy_image = add_salt_and_pepper_noise(image)\n",
    "\n",
    "# Apply a simple harmonic mean filter (using median blur as an approximation)\n",
    "harmonic_filtered = cv2.medianBlur(noisy_image, 3)\n",
    "\n",
    "# Apply a geometric mean filter (using Gaussian blur as an approximation)\n",
    "geometric_filtered = cv2.GaussianBlur(noisy_image, (3, 3), 0)\n",
    "\n",
    "# Calculate PSNR for both filters\n",
    "psnr_harmonic = calculate_psnr(image, harmonic_filtered)\n",
    "psnr_geometric = calculate_psnr(image, geometric_filtered)\n",
    "\n",
    "print(f\"PSNR of Harmonic Filter: {psnr_harmonic:.2f} dB\")\n",
    "print(f\"PSNR of Geometric Filter: {psnr_geometric:.2f} dB\")\n",
    "\n",
    "# Display images\n",
    "cv2.imshow('Original Image', image)\n",
    "cv2.imshow('Noisy Image', noisy_image)\n",
    "cv2.imshow('Harmonic Filtered', harmonic_filtered)\n",
    "cv2.imshow('Geometric Filtered', geometric_filtered)\n",
    "cv2.waitKey(0)\n",
    "cv2.destroyAllWindows()\n"
   ]
  }
 ],
 "metadata": {
  "kernelspec": {
   "display_name": "Python 3",
   "language": "python",
   "name": "python3"
  },
  "language_info": {
   "codemirror_mode": {
    "name": "ipython",
    "version": 3
   },
   "file_extension": ".py",
   "mimetype": "text/x-python",
   "name": "python",
   "nbconvert_exporter": "python",
   "pygments_lexer": "ipython3",
   "version": "3.13.1"
  }
 },
 "nbformat": 4,
 "nbformat_minor": 2
}
